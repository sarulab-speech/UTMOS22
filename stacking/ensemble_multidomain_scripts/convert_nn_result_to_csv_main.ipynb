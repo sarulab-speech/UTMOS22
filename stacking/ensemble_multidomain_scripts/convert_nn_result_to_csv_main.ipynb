{
 "cells": [
  {
   "cell_type": "code",
   "execution_count": 1,
   "id": "b157bfbb-dc80-4bb5-8900-92056b51c2ee",
   "metadata": {},
   "outputs": [],
   "source": [
    "import pandas as pd\n",
    "import numpy as np\n",
    "from pathlib import Path\n",
    "import os"
   ]
  },
  {
   "cell_type": "code",
   "execution_count": 2,
   "id": "2edc752e-769b-4caf-806d-6ae285192214",
   "metadata": {},
   "outputs": [],
   "source": [
    "phase = 'main'\n",
    "# learners = ['breezy-sun-26', 'fancy-surf-27', 'polar-flower-28', 'likely-leaf-29', 'cosmic-water-30']\n",
    "learners = ['add0',\n",
    "            'add1',\n",
    "            'add2',\n",
    "            'add3',\n",
    "            'add4',\n",
    "            'add5',\n",
    "            'add6',\n",
    "            'add7',\n",
    "            'add8',\n",
    "            'add9',\n",
    "            'wavlm10', \n",
    "            'wavlm11',\n",
    "           ]\n",
    "\n",
    "in_dir = Path('../strong-learner-results/main')\n",
    "out_base_dir = Path('../out/ensemble-multidomain/stage1/phase1-main')\n"
   ]
  },
  {
   "cell_type": "code",
   "execution_count": 3,
   "id": "063d74d0-cf42-4232-93fa-d58ad8fe2306",
   "metadata": {},
   "outputs": [
    {
     "data": {
      "text/plain": [
       "((4974, 2), (1066, 2))"
      ]
     },
     "execution_count": 3,
     "metadata": {},
     "output_type": "execute_result"
    }
   ],
   "source": [
    "train_true_path = '../data/phase1-main/DATA/sets/train_mos_list.txt'\n",
    "val_true_path = '../data/phase1-main/DATA/sets/val_mos_list.txt'\n",
    "\n",
    "df_true_dict = {}\n",
    "df_true_dict['train'] = pd.read_csv(train_true_path, header=None,\n",
    "                            names=['wavname', 'true_mos'])\n",
    "df_true_dict['val'] = pd.read_csv(val_true_path, header=None,\n",
    "                            names=['wavname', 'true_mos'])\n",
    "df_true_dict['train'].shape, df_true_dict['val'].shape"
   ]
  },
  {
   "cell_type": "code",
   "execution_count": 4,
   "id": "f9c34d10-34e7-40b6-82e3-c70ab7962b2d",
   "metadata": {},
   "outputs": [],
   "source": [
    "def get_merge_df(df_true, df_pred):\n",
    "\n",
    "    df = pd.merge(df_pred, df_true, on=\"wavname\", how=\"left\")\n",
    "    df = df.set_index('wavname')[['pred_mos', 'true_mos']]\n",
    "    \n",
    "    return df"
   ]
  },
  {
   "cell_type": "code",
   "execution_count": 9,
   "id": "979541e7-ec9d-423c-8f2d-cdd24866ff62",
   "metadata": {},
   "outputs": [
    {
     "name": "stdout",
     "output_type": "stream",
     "text": [
      "../out/ensemble-multidomain/stage1/phase1-main/add0/0\n",
      "../out/ensemble-multidomain/stage1/phase1-main/add0/1\n",
      "../out/ensemble-multidomain/stage1/phase1-main/add0/2\n",
      "../out/ensemble-multidomain/stage1/phase1-main/add0/3\n",
      "../out/ensemble-multidomain/stage1/phase1-main/add0/4\n",
      "../out/ensemble-multidomain/stage1/phase1-main/add1/0\n",
      "../out/ensemble-multidomain/stage1/phase1-main/add1/1\n",
      "../out/ensemble-multidomain/stage1/phase1-main/add1/2\n",
      "../out/ensemble-multidomain/stage1/phase1-main/add1/3\n",
      "../out/ensemble-multidomain/stage1/phase1-main/add1/4\n",
      "../out/ensemble-multidomain/stage1/phase1-main/add2/0\n",
      "../out/ensemble-multidomain/stage1/phase1-main/add2/1\n",
      "../out/ensemble-multidomain/stage1/phase1-main/add2/2\n",
      "../out/ensemble-multidomain/stage1/phase1-main/add2/3\n",
      "../out/ensemble-multidomain/stage1/phase1-main/add2/4\n",
      "../out/ensemble-multidomain/stage1/phase1-main/add3/0\n",
      "../out/ensemble-multidomain/stage1/phase1-main/add3/1\n",
      "../out/ensemble-multidomain/stage1/phase1-main/add3/2\n",
      "../out/ensemble-multidomain/stage1/phase1-main/add3/3\n",
      "../out/ensemble-multidomain/stage1/phase1-main/add3/4\n",
      "../out/ensemble-multidomain/stage1/phase1-main/add4/0\n",
      "../out/ensemble-multidomain/stage1/phase1-main/add4/1\n",
      "../out/ensemble-multidomain/stage1/phase1-main/add4/2\n",
      "../out/ensemble-multidomain/stage1/phase1-main/add4/3\n",
      "../out/ensemble-multidomain/stage1/phase1-main/add4/4\n",
      "../out/ensemble-multidomain/stage1/phase1-main/add5/0\n",
      "../out/ensemble-multidomain/stage1/phase1-main/add5/1\n",
      "../out/ensemble-multidomain/stage1/phase1-main/add5/2\n",
      "../out/ensemble-multidomain/stage1/phase1-main/add5/3\n",
      "../out/ensemble-multidomain/stage1/phase1-main/add5/4\n",
      "../out/ensemble-multidomain/stage1/phase1-main/add6/0\n",
      "../out/ensemble-multidomain/stage1/phase1-main/add6/1\n",
      "../out/ensemble-multidomain/stage1/phase1-main/add6/2\n",
      "../out/ensemble-multidomain/stage1/phase1-main/add6/3\n",
      "../out/ensemble-multidomain/stage1/phase1-main/add6/4\n",
      "../out/ensemble-multidomain/stage1/phase1-main/add7/0\n",
      "../out/ensemble-multidomain/stage1/phase1-main/add7/1\n",
      "../out/ensemble-multidomain/stage1/phase1-main/add7/2\n",
      "../out/ensemble-multidomain/stage1/phase1-main/add7/3\n",
      "../out/ensemble-multidomain/stage1/phase1-main/add7/4\n",
      "../out/ensemble-multidomain/stage1/phase1-main/add8/0\n",
      "../out/ensemble-multidomain/stage1/phase1-main/add8/1\n",
      "../out/ensemble-multidomain/stage1/phase1-main/add8/2\n",
      "../out/ensemble-multidomain/stage1/phase1-main/add8/3\n",
      "../out/ensemble-multidomain/stage1/phase1-main/add8/4\n",
      "../out/ensemble-multidomain/stage1/phase1-main/add9/0\n",
      "../out/ensemble-multidomain/stage1/phase1-main/add9/1\n",
      "../out/ensemble-multidomain/stage1/phase1-main/add9/2\n",
      "../out/ensemble-multidomain/stage1/phase1-main/add9/3\n",
      "../out/ensemble-multidomain/stage1/phase1-main/add9/4\n",
      "../out/ensemble-multidomain/stage1/phase1-main/wavlm10/0\n",
      "../out/ensemble-multidomain/stage1/phase1-main/wavlm10/1\n",
      "../out/ensemble-multidomain/stage1/phase1-main/wavlm10/2\n",
      "../out/ensemble-multidomain/stage1/phase1-main/wavlm10/3\n",
      "../out/ensemble-multidomain/stage1/phase1-main/wavlm10/4\n",
      "../out/ensemble-multidomain/stage1/phase1-main/wavlm11/0\n",
      "../out/ensemble-multidomain/stage1/phase1-main/wavlm11/1\n",
      "../out/ensemble-multidomain/stage1/phase1-main/wavlm11/2\n",
      "../out/ensemble-multidomain/stage1/phase1-main/wavlm11/3\n",
      "../out/ensemble-multidomain/stage1/phase1-main/wavlm11/4\n"
     ]
    }
   ],
   "source": [
    "for learner in learners:\n",
    "    for i_cv in range(5):\n",
    "        out_dir = out_base_dir / learner / str(i_cv)\n",
    "        os.makedirs(out_dir, exist_ok=True)\n",
    "        print(out_dir)\n",
    "\n",
    "        for split in ['train', 'val']:\n",
    "            stacking_split_name = {'train': 'val', 'val': 'test'}[split]\n",
    "            learner_split_name = {'train': 'fold', 'val': 'val'}[split]\n",
    "            in_path = in_dir / learner / f'answer-main.csv{learner_split_name}_{i_cv}'\n",
    "\n",
    "            df_pred = pd.read_csv(in_path, header=None,\n",
    "                        names=['wavbase', 'pred_mos'])\n",
    "            df_pred[\"wavname\"] = df_pred[\"wavbase\"] + \".wav\"\n",
    "\n",
    "            df = get_merge_df(df_true_dict[split], df_pred)\n",
    "\n",
    "            df.to_csv(out_dir / f'{stacking_split_name}.csv')\n"
   ]
  },
  {
   "cell_type": "code",
   "execution_count": null,
   "id": "4c622e03-afc7-4dfb-9c42-bf577192765c",
   "metadata": {},
   "outputs": [],
   "source": []
  },
  {
   "cell_type": "code",
   "execution_count": null,
   "id": "a2779cf9-632a-4de6-97f0-33ec162595c2",
   "metadata": {},
   "outputs": [],
   "source": []
  }
 ],
 "metadata": {
  "kernelspec": {
   "display_name": "Python 3 (ipykernel)",
   "language": "python",
   "name": "python3"
  },
  "language_info": {
   "codemirror_mode": {
    "name": "ipython",
    "version": 3
   },
   "file_extension": ".py",
   "mimetype": "text/x-python",
   "name": "python",
   "nbconvert_exporter": "python",
   "pygments_lexer": "ipython3",
   "version": "3.8.7"
  }
 },
 "nbformat": 4,
 "nbformat_minor": 5
}
