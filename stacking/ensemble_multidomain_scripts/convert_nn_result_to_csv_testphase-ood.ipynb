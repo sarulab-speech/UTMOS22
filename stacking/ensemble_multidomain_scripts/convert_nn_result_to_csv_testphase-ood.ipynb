{
 "cells": [
  {
   "cell_type": "code",
   "execution_count": 1,
   "id": "b157bfbb-dc80-4bb5-8900-92056b51c2ee",
   "metadata": {},
   "outputs": [],
   "source": [
    "import pandas as pd\n",
    "import numpy as np\n",
    "from pathlib import Path\n",
    "import os"
   ]
  },
  {
   "cell_type": "code",
   "execution_count": 12,
   "id": "2edc752e-769b-4caf-806d-6ae285192214",
   "metadata": {},
   "outputs": [],
   "source": [
    "learners = ['pretty-sound-7', 'rural-river-8', 'fancy-music-9', 'golden-monkey-10', 'peachy-valley-11', 'spring-lake-12']\n",
    "\n",
    "in_dir = Path('../strong-learner-results/ood')\n",
    "out_base_dir = Path('../out/ensemble-multidomain/stage1/testphase-ood')\n"
   ]
  },
  {
   "cell_type": "code",
   "execution_count": 7,
   "id": "063d74d0-cf42-4232-93fa-d58ad8fe2306",
   "metadata": {},
   "outputs": [],
   "source": [
    "# train_true_path = '../data/phase1-main/DATA/sets/train_mos_list.txt'\n",
    "# val_true_path = '../data/phase1-main/DATA/sets/val_mos_list.txt'\n",
    "\n",
    "# df_true_dict = {}\n",
    "# df_true_dict['train'] = pd.read_csv(train_true_path, header=None,\n",
    "#                             names=['wavname', 'true_mos'])\n",
    "# df_true_dict['val'] = pd.read_csv(val_true_path, header=None,\n",
    "#                             names=['wavname', 'true_mos'])\n",
    "# df_true_dict['train'].shape, df_true_dict['val'].shape"
   ]
  },
  {
   "cell_type": "code",
   "execution_count": 8,
   "id": "f9c34d10-34e7-40b6-82e3-c70ab7962b2d",
   "metadata": {},
   "outputs": [],
   "source": [
    "# def get_merge_df(df_true, df_pred):\n",
    "\n",
    "#     df = pd.merge(df_pred, df_true, on=\"wavname\", how=\"left\")\n",
    "#     df = df.set_index('wavname')[['pred_mos', 'true_mos']]\n",
    "    \n",
    "#     return df"
   ]
  },
  {
   "cell_type": "code",
   "execution_count": 14,
   "id": "979541e7-ec9d-423c-8f2d-cdd24866ff62",
   "metadata": {},
   "outputs": [
    {
     "name": "stdout",
     "output_type": "stream",
     "text": [
      "../out/ensemble-multidomain/stage1/testphase-ood/pretty-sound-7/0/pred-testphase-ood\n",
      "../out/ensemble-multidomain/stage1/testphase-ood/pretty-sound-7/1/pred-testphase-ood\n",
      "../out/ensemble-multidomain/stage1/testphase-ood/pretty-sound-7/2/pred-testphase-ood\n",
      "../out/ensemble-multidomain/stage1/testphase-ood/rural-river-8/0/pred-testphase-ood\n",
      "../out/ensemble-multidomain/stage1/testphase-ood/rural-river-8/1/pred-testphase-ood\n",
      "../out/ensemble-multidomain/stage1/testphase-ood/rural-river-8/2/pred-testphase-ood\n",
      "../out/ensemble-multidomain/stage1/testphase-ood/fancy-music-9/0/pred-testphase-ood\n",
      "../out/ensemble-multidomain/stage1/testphase-ood/fancy-music-9/1/pred-testphase-ood\n",
      "../out/ensemble-multidomain/stage1/testphase-ood/fancy-music-9/2/pred-testphase-ood\n",
      "../out/ensemble-multidomain/stage1/testphase-ood/golden-monkey-10/0/pred-testphase-ood\n",
      "../out/ensemble-multidomain/stage1/testphase-ood/golden-monkey-10/1/pred-testphase-ood\n",
      "../out/ensemble-multidomain/stage1/testphase-ood/golden-monkey-10/2/pred-testphase-ood\n",
      "../out/ensemble-multidomain/stage1/testphase-ood/peachy-valley-11/0/pred-testphase-ood\n",
      "../out/ensemble-multidomain/stage1/testphase-ood/peachy-valley-11/1/pred-testphase-ood\n",
      "../out/ensemble-multidomain/stage1/testphase-ood/peachy-valley-11/2/pred-testphase-ood\n",
      "../out/ensemble-multidomain/stage1/testphase-ood/spring-lake-12/0/pred-testphase-ood\n",
      "../out/ensemble-multidomain/stage1/testphase-ood/spring-lake-12/1/pred-testphase-ood\n",
      "../out/ensemble-multidomain/stage1/testphase-ood/spring-lake-12/2/pred-testphase-ood\n"
     ]
    }
   ],
   "source": [
    "for learner in learners:\n",
    "    for i_cv in range(3):\n",
    "        out_dir = out_base_dir / learner / str(i_cv) / 'pred-testphase-ood'\n",
    "        os.makedirs(out_dir, exist_ok=True)\n",
    "        print(out_dir)\n",
    "\n",
    "        in_path = in_dir / learner / f'answer-ood.csvtest_{i_cv}'\n",
    "\n",
    "        df_pred = pd.read_csv(in_path, header=None,\n",
    "                    names=['wavbase', 'pred_mos'])\n",
    "        df_pred[\"wavname\"] = df_pred[\"wavbase\"] + \".wav\"\n",
    "        df_pred['true_mos'] = -99.0\n",
    "        df = df_pred.set_index('wavname')[['pred_mos', 'true_mos']]\n",
    "        # df = get_merge_df(df_true_dict[split], df_pred)\n",
    "\n",
    "        df.to_csv(out_dir / 'test.csv')\n"
   ]
  },
  {
   "cell_type": "code",
   "execution_count": null,
   "id": "4c622e03-afc7-4dfb-9c42-bf577192765c",
   "metadata": {},
   "outputs": [],
   "source": []
  },
  {
   "cell_type": "code",
   "execution_count": null,
   "id": "a2779cf9-632a-4de6-97f0-33ec162595c2",
   "metadata": {},
   "outputs": [],
   "source": []
  }
 ],
 "metadata": {
  "kernelspec": {
   "display_name": "Python 3 (ipykernel)",
   "language": "python",
   "name": "python3"
  },
  "language_info": {
   "codemirror_mode": {
    "name": "ipython",
    "version": 3
   },
   "file_extension": ".py",
   "mimetype": "text/x-python",
   "name": "python",
   "nbconvert_exporter": "python",
   "pygments_lexer": "ipython3",
   "version": "3.8.7"
  }
 },
 "nbformat": 4,
 "nbformat_minor": 5
}
