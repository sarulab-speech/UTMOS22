{
 "cells": [
  {
   "cell_type": "code",
   "execution_count": 1,
   "id": "deb3f294-eb7a-4263-886b-cbbedc7dac4a",
   "metadata": {},
   "outputs": [],
   "source": [
    "import sys\n",
    "sys.path.append('..')\n",
    "\n",
    "import numpy as np\n",
    "import matplotlib.pyplot as plt\n",
    "from tqdm.notebook import tqdm"
   ]
  },
  {
   "cell_type": "code",
   "execution_count": 2,
   "id": "c2fd77ad-1011-459b-a46f-f5e5f8e7b74e",
   "metadata": {},
   "outputs": [
    {
     "data": {
      "text/plain": [
       "device(type='cuda')"
      ]
     },
     "execution_count": 2,
     "metadata": {},
     "output_type": "execute_result"
    }
   ],
   "source": [
    "from pathlib import Path\n",
    "import torchaudio\n",
    "import fairseq\n",
    "import torch\n",
    "device = torch.device('cuda')\n",
    "device"
   ]
  },
  {
   "cell_type": "code",
   "execution_count": 3,
   "id": "d118c0cc-af15-49ec-8680-b87445b13c63",
   "metadata": {},
   "outputs": [],
   "source": [
    "def get_mos_data(split):\n",
    "    mos_list_file = f'../data/phase1-main/DATA/sets/{split}_mos_list.txt'\n",
    "    mos_data = {}\n",
    "    for line in open(mos_list_file):\n",
    "        file_id, mos = line.rstrip().split(',')\n",
    "        mos = float(mos)\n",
    "        mos_data[file_id] = mos\n",
    "    return mos_data"
   ]
  },
  {
   "cell_type": "code",
   "execution_count": 4,
   "id": "1dfd3208-ad88-4ba9-9e88-56e57860b69f",
   "metadata": {},
   "outputs": [
    {
     "data": {
      "text/plain": [
       "4974"
      ]
     },
     "execution_count": 4,
     "metadata": {},
     "output_type": "execute_result"
    }
   ],
   "source": [
    "train_mos_data = get_mos_data('train')\n",
    "len(train_mos_data)"
   ]
  },
  {
   "cell_type": "code",
   "execution_count": 5,
   "id": "bb1d82da-00fb-444a-bde0-c6c8546aadd3",
   "metadata": {},
   "outputs": [
    {
     "data": {
      "text/plain": [
       "1066"
      ]
     },
     "execution_count": 5,
     "metadata": {},
     "output_type": "execute_result"
    }
   ],
   "source": [
    "val_mos_data = get_mos_data('val')\n",
    "len(val_mos_data)"
   ]
  },
  {
   "cell_type": "code",
   "execution_count": 6,
   "id": "66f0cdbc-6bd8-4348-95ce-ce5c663b4e28",
   "metadata": {},
   "outputs": [
    {
     "data": {
      "text/plain": [
       "torch.Size([1, 42944])"
      ]
     },
     "execution_count": 6,
     "metadata": {},
     "output_type": "execute_result"
    }
   ],
   "source": [
    "wav_dir = Path('../data/phase1-main/DATA/wav/')\n",
    "\n",
    "wavpath = wav_dir / 'sys64e2f-utt9c183cd.wav'\n",
    "wav = torchaudio.load(wavpath)[0]\n",
    "wav.size()"
   ]
  },
  {
   "cell_type": "code",
   "execution_count": 7,
   "id": "516f24a3-9a91-4142-97c0-919bbd3445bb",
   "metadata": {},
   "outputs": [
    {
     "data": {
      "text/plain": [
       "[<matplotlib.lines.Line2D at 0x7f36096dec40>]"
      ]
     },
     "execution_count": 7,
     "metadata": {},
     "output_type": "execute_result"
    },
    {
     "data": {
      "image/png": "[encoded data removed]",
      "text/plain": [
       "<Figure size 432x288 with 1 Axes>"
      ]
     },
     "metadata": {
      "needs_background": "light"
     },
     "output_type": "display_data"
    }
   ],
   "source": [
    "plt.plot(wav.numpy().ravel())"
   ]
  },
  {
   "cell_type": "code",
   "execution_count": 8,
   "id": "2bfd7bf0-ed02-4d95-a8bd-3b31b4d79e5a",
   "metadata": {},
   "outputs": [],
   "source": [
    "# fairseq_base_model = '../fairseq/w2v_large_lv_fsh_swbd_cv.pt'\n",
    "fairseq_base_model = '../fairseq/xlsr_53_56k.pt'\n",
    "model, cfg, task = fairseq.checkpoint_utils.load_model_ensemble_and_task([fairseq_base_model])\n",
    "# model"
   ]
  },
  {
   "cell_type": "code",
   "execution_count": 9,
   "id": "6d3fc3a0-afb8-423c-a8b2-2b24a72ba144",
   "metadata": {},
   "outputs": [],
   "source": [
    "ssl_model = model[0]"
   ]
  },
  {
   "cell_type": "code",
   "execution_count": 10,
   "id": "445112fc-7a42-4ec3-b811-19daf88f9b8f",
   "metadata": {},
   "outputs": [],
   "source": [
    "ssl_model.remove_pretraining_modules()\n",
    "ssl_model.to(device)\n",
    "ssl_model.eval();"
   ]
  },
  {
   "cell_type": "code",
   "execution_count": 11,
   "id": "42796540-b683-417b-972e-72ddfe287061",
   "metadata": {},
   "outputs": [
    {
     "data": {
      "text/plain": [
       "torch.Size([1, 1, 42944])"
      ]
     },
     "execution_count": 11,
     "metadata": {},
     "output_type": "execute_result"
    }
   ],
   "source": [
    "output_wavs = torch.stack([wav], dim=0)\n",
    "output_wavs.size()"
   ]
  },
  {
   "cell_type": "code",
   "execution_count": 12,
   "id": "6285cd2c-7f43-4aa8-8654-72d308d69dc7",
   "metadata": {},
   "outputs": [
    {
     "data": {
      "text/plain": [
       "{'x': tensor([[[-0.0691, -0.0411,  0.0987,  ...,  0.1907, -0.2019, -0.0886],\n",
       "          [-0.0312,  0.2071,  0.0018,  ..., -0.0900,  0.0163, -0.0252],\n",
       "          [-0.0311,  0.2094,  0.0014,  ..., -0.0895,  0.0147, -0.0250],\n",
       "          ...,\n",
       "          [-0.0303,  0.2128,  0.0020,  ..., -0.0880,  0.0135, -0.0252],\n",
       "          [-0.0306,  0.2091,  0.0023,  ..., -0.0894,  0.0143, -0.0248],\n",
       "          [-0.0323,  0.2014,  0.0028,  ..., -0.0889,  0.0156, -0.0260]]],\n",
       "        device='cuda:0', grad_fn=<NativeLayerNormBackward0>),\n",
       " 'padding_mask': None,\n",
       " 'features': tensor([[[ 0.8038,  0.0664, -1.7978,  ..., -0.4437, -1.1850,  1.3131],\n",
       "          [ 0.6954,  0.1929, -1.6125,  ..., -0.4510, -1.2052,  1.4697],\n",
       "          [-0.2075, -0.8192, -1.7886,  ...,  0.0859, -0.7412,  0.1732],\n",
       "          ...,\n",
       "          [-0.2495,  1.7151, -1.8699,  ...,  0.4864, -1.3019,  0.8920],\n",
       "          [ 0.0163, -0.6271,  0.9650,  ...,  0.9320, -0.5558,  0.6621],\n",
       "          [ 0.0316, -0.9249, -1.5384,  ...,  0.0022, -1.1121,  1.3645]]],\n",
       "        device='cuda:0', grad_fn=<CloneBackward0>),\n",
       " 'layer_results': []}"
      ]
     },
     "execution_count": 12,
     "metadata": {},
     "output_type": "execute_result"
    }
   ],
   "source": [
    "res = ssl_model(wav.to(device), mask=False, features_only=True)\n",
    "res"
   ]
  },
  {
   "cell_type": "code",
   "execution_count": 13,
   "id": "c7fa234d-6d0d-44f4-b330-4814a5cd9f82",
   "metadata": {},
   "outputs": [
    {
     "data": {
      "text/plain": [
       "torch.Size([1, 133, 1024])"
      ]
     },
     "execution_count": 13,
     "metadata": {},
     "output_type": "execute_result"
    }
   ],
   "source": [
    "res['x'].size()"
   ]
  },
  {
   "cell_type": "code",
   "execution_count": 14,
   "id": "b95be861-a1c2-4ca4-8669-e57bff710a3a",
   "metadata": {},
   "outputs": [
    {
     "data": {
      "text/plain": [
       "torch.Size([1, 133, 512])"
      ]
     },
     "execution_count": 14,
     "metadata": {},
     "output_type": "execute_result"
    }
   ],
   "source": [
    "res['features'].size()"
   ]
  },
  {
   "cell_type": "code",
   "execution_count": 15,
   "id": "556463b7-d4cc-4359-a9bd-062db06d6c14",
   "metadata": {},
   "outputs": [
    {
     "data": {
      "text/plain": [
       "[<matplotlib.lines.Line2D at 0x7f3608996d00>]"
      ]
     },
     "execution_count": 15,
     "metadata": {},
     "output_type": "execute_result"
    },
    {
     "data": {
      "image/png": "[encoded data removed]",
      "text/plain": [
       "<Figure size 432x288 with 1 Axes>"
      ]
     },
     "metadata": {
      "needs_background": "light"
     },
     "output_type": "display_data"
    }
   ],
   "source": [
    "plt.plot(res['x'].squeeze(0)[:, 350].detach().cpu().numpy())"
   ]
  },
  {
   "cell_type": "code",
   "execution_count": 16,
   "id": "4096dafd-faf2-48bf-b769-7317162f37ea",
   "metadata": {},
   "outputs": [
    {
     "data": {
      "text/plain": [
       "[<matplotlib.lines.Line2D at 0x7f3608d43be0>]"
      ]
     },
     "execution_count": 16,
     "metadata": {},
     "output_type": "execute_result"
    },
    {
     "data": {
      "image/png": "[encoded data removed]",
      "text/plain": [
       "<Figure size 432x288 with 1 Axes>"
      ]
     },
     "metadata": {
      "needs_background": "light"
     },
     "output_type": "display_data"
    }
   ],
   "source": [
    "plt.plot(torch.linalg.vector_norm(res['x'].squeeze(0), dim=1).detach().cpu().numpy())"
   ]
  },
  {
   "cell_type": "code",
   "execution_count": 17,
   "id": "654648c5-7a51-4a0e-82e8-de71d3570167",
   "metadata": {},
   "outputs": [
    {
     "data": {
      "text/plain": [
       "[<matplotlib.lines.Line2D at 0x7f3608d2b3d0>]"
      ]
     },
     "execution_count": 17,
     "metadata": {},
     "output_type": "execute_result"
    },
    {
     "data": {
      "image/png": "[encoded data removed]",
      "text/plain": [
       "<Figure size 432x288 with 1 Axes>"
      ]
     },
     "metadata": {
      "needs_background": "light"
     },
     "output_type": "display_data"
    }
   ],
   "source": [
    "plt.plot(torch.linalg.vector_norm(res['x'].squeeze(0), dim=0).detach().cpu().numpy())"
   ]
  },
  {
   "cell_type": "code",
   "execution_count": 18,
   "id": "06e28d6d-4430-4879-8a4d-973b4833da5d",
   "metadata": {},
   "outputs": [],
   "source": [
    "def extract_mean(wavpath):\n",
    "    with torch.no_grad():\n",
    "        wav = torchaudio.load(wavpath)[0]\n",
    "        res = ssl_model(wav.to(device), mask=False, features_only=True)\n",
    "        return res['x'].squeeze(0).mean(dim=0)\n"
   ]
  },
  {
   "cell_type": "code",
   "execution_count": 19,
   "id": "8780591e-8cdb-4665-a0c9-69fe012679a7",
   "metadata": {},
   "outputs": [
    {
     "data": {
      "text/plain": [
       "torch.Size([1024])"
      ]
     },
     "execution_count": 19,
     "metadata": {},
     "output_type": "execute_result"
    }
   ],
   "source": [
    "extract_mean(wavpath).size()"
   ]
  },
  {
   "cell_type": "code",
   "execution_count": 20,
   "id": "46455624-7883-4f71-b1a2-ad9dd950344d",
   "metadata": {},
   "outputs": [],
   "source": [
    "out_dir = Path('../out/utt_data/w2v_xlsr')\n",
    "import os\n",
    "os.makedirs(out_dir, exist_ok=True)\n"
   ]
  },
  {
   "cell_type": "code",
   "execution_count": 21,
   "id": "ec8d1737-dabb-42fb-b548-76024bc72e7a",
   "metadata": {},
   "outputs": [
    {
     "data": {
      "application/vnd.jupyter.widget-view+json": {
       "model_id": "1fee5e67fcd540c5a8120cd395bdb864",
       "version_major": 2,
       "version_minor": 0
      },
      "text/plain": [
       "  0%|          | 0/1066 [00:00<?, ?it/s]"
      ]
     },
     "metadata": {},
     "output_type": "display_data"
    }
   ],
   "source": [
    "val_vecs = []\n",
    "val_moss = []\n",
    "\n",
    "for key, mos in tqdm(sorted(val_mos_data.items())):\n",
    "    wavpath = wav_dir / key\n",
    "    vec = extract_mean(wavpath)\n",
    "    outpath = out_dir / (wavpath.stem + '.npy')\n",
    "    \n",
    "    vec = vec.detach().cpu().numpy()\n",
    "    np.save(outpath, vec)\n",
    "    \n",
    "    val_vecs.append(vec)\n",
    "    val_moss.append(mos)"
   ]
  },
  {
   "cell_type": "code",
   "execution_count": 22,
   "id": "88ff7f96-f474-466c-9579-0d6016093532",
   "metadata": {},
   "outputs": [
    {
     "data": {
      "application/vnd.jupyter.widget-view+json": {
       "model_id": "eef8dd998a9b4374a4da20894badcb90",
       "version_major": 2,
       "version_minor": 0
      },
      "text/plain": [
       "  0%|          | 0/4974 [00:00<?, ?it/s]"
      ]
     },
     "metadata": {},
     "output_type": "display_data"
    }
   ],
   "source": [
    "train_vecs = []\n",
    "train_moss = []\n",
    "\n",
    "for key, mos in tqdm(sorted(train_mos_data.items())):\n",
    "    wavpath = wav_dir / key\n",
    "    vec = extract_mean(wavpath)\n",
    "    outpath = out_dir / (wavpath.stem + '.npy')\n",
    "    \n",
    "    vec = vec.detach().cpu().numpy()\n",
    "    np.save(outpath, vec)\n",
    "    \n",
    "    train_vecs.append(vec)\n",
    "    train_moss.append(mos)"
   ]
  },
  {
   "cell_type": "code",
   "execution_count": 23,
   "id": "43d57190-b302-4bcc-885e-f2588af31fe2",
   "metadata": {},
   "outputs": [],
   "source": [
    "# train_X = np.array(train_vecs)\n",
    "# train_y = np.array(train_moss)\n",
    "# val_X = np.array(val_vecs)\n",
    "# val_y = np.array(val_moss)\n",
    "# train_X.shape"
   ]
  },
  {
   "cell_type": "code",
   "execution_count": 24,
   "id": "e7e64f78-6565-43fa-9764-9ebbf4ce8ac3",
   "metadata": {},
   "outputs": [],
   "source": [
    "# uttemb_dir = Path('../out/utt_emb/w2v_large')\n",
    "# os.makedirs(uttemb_dir)\n",
    "# np.save(uttemb_dir / 'train_X.npy', train_X)\n",
    "# np.save(uttemb_dir / 'train_y.npy', train_y)\n",
    "# np.save(uttemb_dir / 'val_X.npy', val_X)\n",
    "# np.save(uttemb_dir / 'val_y.npy', val_y)"
   ]
  },
  {
   "cell_type": "code",
   "execution_count": null,
   "id": "79921351-f4d5-4795-aa38-0532122a30f2",
   "metadata": {},
   "outputs": [],
   "source": []
  }
 ],
 "metadata": {
  "kernelspec": {
   "display_name": "Python 3 (ipykernel)",
   "language": "python",
   "name": "python3"
  },
  "language_info": {
   "codemirror_mode": {
    "name": "ipython",
    "version": 3
   },
   "file_extension": ".py",
   "mimetype": "text/x-python",
   "name": "python",
   "nbconvert_exporter": "python",
   "pygments_lexer": "ipython3",
   "version": "3.8.7"
  }
 },
 "nbformat": 4,
 "nbformat_minor": 5
}
