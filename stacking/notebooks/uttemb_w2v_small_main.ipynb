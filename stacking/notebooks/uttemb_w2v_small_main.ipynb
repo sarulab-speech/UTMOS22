{
 "cells": [
  {
   "cell_type": "code",
   "execution_count": 1,
   "id": "deb3f294-eb7a-4263-886b-cbbedc7dac4a",
   "metadata": {},
   "outputs": [],
   "source": [
    "import sys\n",
    "sys.path.append('..')\n",
    "\n",
    "import numpy as np\n",
    "import matplotlib.pyplot as plt\n",
    "from tqdm.notebook import tqdm"
   ]
  },
  {
   "cell_type": "code",
   "execution_count": 2,
   "id": "c2fd77ad-1011-459b-a46f-f5e5f8e7b74e",
   "metadata": {},
   "outputs": [],
   "source": [
    "from pathlib import Path\n",
    "import torchaudio\n",
    "import fairseq\n",
    "import torch"
   ]
  },
  {
   "cell_type": "code",
   "execution_count": 3,
   "id": "d118c0cc-af15-49ec-8680-b87445b13c63",
   "metadata": {},
   "outputs": [],
   "source": [
    "def get_mos_data(split):\n",
    "    mos_list_file = f'../data/phase1-main/DATA/sets/{split}_mos_list.txt'\n",
    "    mos_data = {}\n",
    "    for line in open(mos_list_file):\n",
    "        file_id, mos = line.rstrip().split(',')\n",
    "        mos = float(mos)\n",
    "        mos_data[file_id] = mos\n",
    "    return mos_data"
   ]
  },
  {
   "cell_type": "code",
   "execution_count": 4,
   "id": "1dfd3208-ad88-4ba9-9e88-56e57860b69f",
   "metadata": {},
   "outputs": [
    {
     "data": {
      "text/plain": [
       "4974"
      ]
     },
     "execution_count": 4,
     "metadata": {},
     "output_type": "execute_result"
    }
   ],
   "source": [
    "train_mos_data = get_mos_data('train')\n",
    "len(train_mos_data)"
   ]
  },
  {
   "cell_type": "code",
   "execution_count": 5,
   "id": "bb1d82da-00fb-444a-bde0-c6c8546aadd3",
   "metadata": {},
   "outputs": [
    {
     "data": {
      "text/plain": [
       "1066"
      ]
     },
     "execution_count": 5,
     "metadata": {},
     "output_type": "execute_result"
    }
   ],
   "source": [
    "val_mos_data = get_mos_data('val')\n",
    "len(val_mos_data)"
   ]
  },
  {
   "cell_type": "code",
   "execution_count": 6,
   "id": "66f0cdbc-6bd8-4348-95ce-ce5c663b4e28",
   "metadata": {},
   "outputs": [
    {
     "data": {
      "text/plain": [
       "torch.Size([1, 42944])"
      ]
     },
     "execution_count": 6,
     "metadata": {},
     "output_type": "execute_result"
    }
   ],
   "source": [
    "wav_dir = Path('../data/phase1-main/DATA/wav/')\n",
    "\n",
    "wavpath = wav_dir / 'sys64e2f-utt9c183cd.wav'\n",
    "wav = torchaudio.load(wavpath)[0]\n",
    "wav.size()"
   ]
  },
  {
   "cell_type": "code",
   "execution_count": 7,
   "id": "516f24a3-9a91-4142-97c0-919bbd3445bb",
   "metadata": {},
   "outputs": [
    {
     "data": {
      "text/plain": [
       "[<matplotlib.lines.Line2D at 0x7fad5089b400>]"
      ]
     },
     "execution_count": 7,
     "metadata": {},
     "output_type": "execute_result"
    },
    {
     "data": {
      "image/png": "[encoded data removed]",
      "text/plain": [
       "<Figure size 432x288 with 1 Axes>"
      ]
     },
     "metadata": {
      "needs_background": "light"
     },
     "output_type": "display_data"
    }
   ],
   "source": [
    "plt.plot(wav.numpy().ravel())"
   ]
  },
  {
   "cell_type": "code",
   "execution_count": 8,
   "id": "2bfd7bf0-ed02-4d95-a8bd-3b31b4d79e5a",
   "metadata": {},
   "outputs": [],
   "source": [
    "fairseq_base_model = '../fairseq/wav2vec_small.pt'\n",
    "model, cfg, task = fairseq.checkpoint_utils.load_model_ensemble_and_task([fairseq_base_model])\n",
    "# model"
   ]
  },
  {
   "cell_type": "code",
   "execution_count": 9,
   "id": "6d3fc3a0-afb8-423c-a8b2-2b24a72ba144",
   "metadata": {},
   "outputs": [],
   "source": [
    "ssl_model = model[0]"
   ]
  },
  {
   "cell_type": "code",
   "execution_count": 10,
   "id": "445112fc-7a42-4ec3-b811-19daf88f9b8f",
   "metadata": {},
   "outputs": [],
   "source": [
    "ssl_model.remove_pretraining_modules()\n",
    "ssl_model.eval();"
   ]
  },
  {
   "cell_type": "code",
   "execution_count": 11,
   "id": "42796540-b683-417b-972e-72ddfe287061",
   "metadata": {},
   "outputs": [
    {
     "data": {
      "text/plain": [
       "torch.Size([1, 1, 42944])"
      ]
     },
     "execution_count": 11,
     "metadata": {},
     "output_type": "execute_result"
    }
   ],
   "source": [
    "output_wavs = torch.stack([wav], dim=0)\n",
    "output_wavs.size()"
   ]
  },
  {
   "cell_type": "code",
   "execution_count": 12,
   "id": "6285cd2c-7f43-4aa8-8654-72d308d69dc7",
   "metadata": {},
   "outputs": [
    {
     "data": {
      "text/plain": [
       "{'x': tensor([[[ 0.2308,  0.2443,  0.5489,  ...,  0.1755,  0.2310,  0.0209],\n",
       "          [ 0.1517,  0.2802,  0.5355,  ...,  0.0818,  0.1908, -0.0885],\n",
       "          [ 0.1226,  0.1786,  0.3876,  ...,  0.2740,  0.1080, -0.3020],\n",
       "          ...,\n",
       "          [ 0.0189,  0.1625,  0.0571,  ...,  0.3395,  0.1968, -0.2756],\n",
       "          [-0.0990,  0.1637, -0.0284,  ...,  0.2287,  0.5408, -0.3334],\n",
       "          [ 0.1688,  0.1709,  0.4342,  ...,  0.0910,  0.0870, -0.0185]]],\n",
       "        grad_fn=<TransposeBackward0>),\n",
       " 'padding_mask': None,\n",
       " 'features': tensor([[[ 0.5017, -0.2758, -0.0337,  ..., -0.1566, -0.1796,  0.0628],\n",
       "          [-0.3271, -0.2372, -0.3399,  ..., -0.7221,  0.6410, -0.2831],\n",
       "          [ 0.4493, -0.2757,  0.2314,  ..., -0.6403, -0.2031,  0.2935],\n",
       "          ...,\n",
       "          [-0.0244, -0.0390, -0.3577,  ..., -1.5788, -0.0446,  0.3749],\n",
       "          [ 0.4455, -0.2607, -0.2525,  ..., -0.8553, -0.4182,  0.6970],\n",
       "          [-0.1002,  0.0708, -0.2126,  ..., -0.4475,  0.4372,  0.1123]]],\n",
       "        grad_fn=<CloneBackward0>),\n",
       " 'layer_results': []}"
      ]
     },
     "execution_count": 12,
     "metadata": {},
     "output_type": "execute_result"
    }
   ],
   "source": [
    "res = ssl_model(wav, mask=False, features_only=True)\n",
    "res"
   ]
  },
  {
   "cell_type": "code",
   "execution_count": 13,
   "id": "c7fa234d-6d0d-44f4-b330-4814a5cd9f82",
   "metadata": {},
   "outputs": [
    {
     "data": {
      "text/plain": [
       "torch.Size([1, 133, 768])"
      ]
     },
     "execution_count": 13,
     "metadata": {},
     "output_type": "execute_result"
    }
   ],
   "source": [
    "res['x'].size()"
   ]
  },
  {
   "cell_type": "code",
   "execution_count": 14,
   "id": "b95be861-a1c2-4ca4-8669-e57bff710a3a",
   "metadata": {},
   "outputs": [
    {
     "data": {
      "text/plain": [
       "torch.Size([1, 133, 512])"
      ]
     },
     "execution_count": 14,
     "metadata": {},
     "output_type": "execute_result"
    }
   ],
   "source": [
    "res['features'].size()"
   ]
  },
  {
   "cell_type": "code",
   "execution_count": 15,
   "id": "556463b7-d4cc-4359-a9bd-062db06d6c14",
   "metadata": {},
   "outputs": [
    {
     "data": {
      "text/plain": [
       "[<matplotlib.lines.Line2D at 0x7fad5031ff40>]"
      ]
     },
     "execution_count": 15,
     "metadata": {},
     "output_type": "execute_result"
    },
    {
     "data": {
      "image/png": "[encoded data removed]",
      "text/plain": [
       "<Figure size 432x288 with 1 Axes>"
      ]
     },
     "metadata": {
      "needs_background": "light"
     },
     "output_type": "display_data"
    }
   ],
   "source": [
    "plt.plot(res['x'].squeeze(0)[:, 10].detach().numpy())"
   ]
  },
  {
   "cell_type": "code",
   "execution_count": 16,
   "id": "4096dafd-faf2-48bf-b769-7317162f37ea",
   "metadata": {},
   "outputs": [
    {
     "data": {
      "text/plain": [
       "[<matplotlib.lines.Line2D at 0x7fad1ec13eb0>]"
      ]
     },
     "execution_count": 16,
     "metadata": {},
     "output_type": "execute_result"
    },
    {
     "data": {
      "image/png": "[encoded data removed]",
      "text/plain": [
       "<Figure size 432x288 with 1 Axes>"
      ]
     },
     "metadata": {
      "needs_background": "light"
     },
     "output_type": "display_data"
    }
   ],
   "source": [
    "plt.plot(torch.linalg.vector_norm(res['x'].squeeze(0), dim=1).detach().numpy())"
   ]
  },
  {
   "cell_type": "code",
   "execution_count": 17,
   "id": "06e28d6d-4430-4879-8a4d-973b4833da5d",
   "metadata": {},
   "outputs": [],
   "source": [
    "def extract_mean(wavpath):\n",
    "    with torch.no_grad():\n",
    "        wav = torchaudio.load(wavpath)[0]\n",
    "        res = ssl_model(wav, mask=False, features_only=True)\n",
    "        return res['x'].squeeze(0).mean(dim=0)\n"
   ]
  },
  {
   "cell_type": "code",
   "execution_count": 18,
   "id": "8780591e-8cdb-4665-a0c9-69fe012679a7",
   "metadata": {},
   "outputs": [
    {
     "data": {
      "text/plain": [
       "torch.Size([768])"
      ]
     },
     "execution_count": 18,
     "metadata": {},
     "output_type": "execute_result"
    }
   ],
   "source": [
    "extract_mean(wavpath).size()"
   ]
  },
  {
   "cell_type": "code",
   "execution_count": 19,
   "id": "46455624-7883-4f71-b1a2-ad9dd950344d",
   "metadata": {},
   "outputs": [],
   "source": [
    "out_dir = Path('../out/utt_data')\n",
    "import os\n",
    "os.makedirs(out_dir, exist_ok=True)\n"
   ]
  },
  {
   "cell_type": "code",
   "execution_count": 20,
   "id": "ec8d1737-dabb-42fb-b548-76024bc72e7a",
   "metadata": {},
   "outputs": [
    {
     "data": {
      "application/vnd.jupyter.widget-view+json": {
       "model_id": "28102b497fe14ca5aab472f4a2d16ac0",
       "version_major": 2,
       "version_minor": 0
      },
      "text/plain": [
       "  0%|          | 0/1066 [00:00<?, ?it/s]"
      ]
     },
     "metadata": {},
     "output_type": "display_data"
    }
   ],
   "source": [
    "val_vecs = []\n",
    "val_moss = []\n",
    "\n",
    "for key, mos in tqdm(sorted(val_mos_data.items())):\n",
    "    wavpath = wav_dir / key\n",
    "    vec = extract_mean(wavpath)\n",
    "    outpath = out_dir / (wavpath.stem + '.npy')\n",
    "    \n",
    "    vec = vec.detach().numpy()\n",
    "    np.save(outpath, vec)\n",
    "    \n",
    "    val_vecs.append(vec)\n",
    "    val_moss.append(mos)"
   ]
  },
  {
   "cell_type": "code",
   "execution_count": 21,
   "id": "88ff7f96-f474-466c-9579-0d6016093532",
   "metadata": {},
   "outputs": [
    {
     "data": {
      "application/vnd.jupyter.widget-view+json": {
       "model_id": "031216ffa9cc43dd92059de03e6b1628",
       "version_major": 2,
       "version_minor": 0
      },
      "text/plain": [
       "  0%|          | 0/4974 [00:00<?, ?it/s]"
      ]
     },
     "metadata": {},
     "output_type": "display_data"
    }
   ],
   "source": [
    "train_vecs = []\n",
    "train_moss = []\n",
    "\n",
    "for key, mos in tqdm(sorted(train_mos_data.items())):\n",
    "    wavpath = wav_dir / key\n",
    "    vec = extract_mean(wavpath)\n",
    "    outpath = out_dir / (wavpath.stem + '.npy')\n",
    "    \n",
    "    vec = vec.detach().numpy()\n",
    "    np.save(outpath, vec)\n",
    "    \n",
    "    train_vecs.append(vec)\n",
    "    train_moss.append(mos)"
   ]
  },
  {
   "cell_type": "code",
   "execution_count": 23,
   "id": "43d57190-b302-4bcc-885e-f2588af31fe2",
   "metadata": {},
   "outputs": [
    {
     "data": {
      "text/plain": [
       "(4974, 768)"
      ]
     },
     "execution_count": 23,
     "metadata": {},
     "output_type": "execute_result"
    }
   ],
   "source": [
    "train_X = np.array(train_vecs)\n",
    "train_y = np.array(train_moss)\n",
    "val_X = np.array(val_vecs)\n",
    "val_y = np.array(val_moss)\n",
    "train_X.shape"
   ]
  },
  {
   "cell_type": "code",
   "execution_count": 24,
   "id": "e7e64f78-6565-43fa-9764-9ebbf4ce8ac3",
   "metadata": {},
   "outputs": [],
   "source": [
    "os.makedirs('../out/utt_data_npy')\n",
    "np.save('../out/utt_data_npy/train_X.npy', train_X)\n",
    "np.save('../out/utt_data_npy/train_y.npy', train_y)\n",
    "np.save('../out/utt_data_npy/val_X.npy', val_X)\n",
    "np.save('../out/utt_data_npy/val_y.npy', val_y)"
   ]
  },
  {
   "cell_type": "code",
   "execution_count": null,
   "id": "79921351-f4d5-4795-aa38-0532122a30f2",
   "metadata": {},
   "outputs": [],
   "source": []
  }
 ],
 "metadata": {
  "kernelspec": {
   "display_name": "Python 3 (ipykernel)",
   "language": "python",
   "name": "python3"
  },
  "language_info": {
   "codemirror_mode": {
    "name": "ipython",
    "version": 3
   },
   "file_extension": ".py",
   "mimetype": "text/x-python",
   "name": "python",
   "nbconvert_exporter": "python",
   "pygments_lexer": "ipython3",
   "version": "3.8.7"
  }
 },
 "nbformat": 4,
 "nbformat_minor": 5
}
