{
 "cells": [
  {
   "cell_type": "code",
   "execution_count": 1,
   "id": "a2452bd4-8b7f-4b7e-8652-9d9779c02931",
   "metadata": {},
   "outputs": [],
   "source": [
    "import pandas as pd\n",
    "import numpy as np\n"
   ]
  },
  {
   "cell_type": "code",
   "execution_count": 3,
   "id": "0baac4b9-248a-4ca4-8e56-cc043d61de05",
   "metadata": {},
   "outputs": [
    {
     "name": "stdout",
     "output_type": "stream",
     "text": [
      "sys40775,sys40775-utted1807d.wav,2,MOS,{}_na_3SfGxVYb_na_na_na_EE\n",
      "sys9900c,sys9900c-uttfb2708e.wav,2,MOS,{}_na_3SfGxVYb_na_na_na_EE\n",
      "sysc138b,sysc138b-utt52345ed.wav,2,MOS,{}_na_3SfGxVYb_na_na_na_EE\n",
      "sysc0232,sysc0232-utt464d5e7.wav,2,MOS,{}_na_3SfGxVYb_na_na_na_EE\n",
      "sys288fc,sys288fc-utt2bd834f.wav,1,MOS,{}_na_3SfGxVYb_na_na_na_EE\n",
      "sys86a3b,sys86a3b-uttbcf8487.wav,4,MOS,{}_na_3SfGxVYb_na_na_na_EE\n",
      "sys50620,sys50620-utt712ce0b.wav,1,MOS,{}_na_3SfGxVYb_na_na_na_EE\n",
      "sys5a87a,sys5a87a-utta89b1e7.wav,3,MOS,{}_na_3SfGxVYb_na_na_na_EE\n",
      "sysc0247,sysc0247-utt324aad1.wav,5,MOS,{}_na_3SfGxVYb_na_na_na_EE\n",
      "sys86a3b,sys86a3b-utte6ab3f9.wav,3,MOS,{}_na_3SfGxVYb_na_na_na_EE\n"
     ]
    }
   ],
   "source": [
    "!head ../data/additional/xin_data.txt"
   ]
  },
  {
   "cell_type": "code",
   "execution_count": 5,
   "id": "00306a72-2236-4f7e-aaa2-f06fa2e1f1cd",
   "metadata": {},
   "outputs": [
    {
     "data": {
      "text/html": [
       "<div>\n",
       "<style scoped>\n",
       "    .dataframe tbody tr th:only-of-type {\n",
       "        vertical-align: middle;\n",
       "    }\n",
       "\n",
       "    .dataframe tbody tr th {\n",
       "        vertical-align: top;\n",
       "    }\n",
       "\n",
       "    .dataframe thead th {\n",
       "        text-align: right;\n",
       "    }\n",
       "</style>\n",
       "<table border=\"1\" class=\"dataframe\">\n",
       "  <thead>\n",
       "    <tr style=\"text-align: right;\">\n",
       "      <th></th>\n",
       "      <th>sysID</th>\n",
       "      <th>wavname</th>\n",
       "      <th>score</th>\n",
       "      <th>dmy1</th>\n",
       "      <th>listener</th>\n",
       "    </tr>\n",
       "  </thead>\n",
       "  <tbody>\n",
       "    <tr>\n",
       "      <th>0</th>\n",
       "      <td>sys40775</td>\n",
       "      <td>sys40775-utted1807d.wav</td>\n",
       "      <td>2</td>\n",
       "      <td>MOS</td>\n",
       "      <td>{}_na_3SfGxVYb_na_na_na_EE</td>\n",
       "    </tr>\n",
       "    <tr>\n",
       "      <th>1</th>\n",
       "      <td>sys9900c</td>\n",
       "      <td>sys9900c-uttfb2708e.wav</td>\n",
       "      <td>2</td>\n",
       "      <td>MOS</td>\n",
       "      <td>{}_na_3SfGxVYb_na_na_na_EE</td>\n",
       "    </tr>\n",
       "    <tr>\n",
       "      <th>2</th>\n",
       "      <td>sysc138b</td>\n",
       "      <td>sysc138b-utt52345ed.wav</td>\n",
       "      <td>2</td>\n",
       "      <td>MOS</td>\n",
       "      <td>{}_na_3SfGxVYb_na_na_na_EE</td>\n",
       "    </tr>\n",
       "    <tr>\n",
       "      <th>3</th>\n",
       "      <td>sysc0232</td>\n",
       "      <td>sysc0232-utt464d5e7.wav</td>\n",
       "      <td>2</td>\n",
       "      <td>MOS</td>\n",
       "      <td>{}_na_3SfGxVYb_na_na_na_EE</td>\n",
       "    </tr>\n",
       "    <tr>\n",
       "      <th>4</th>\n",
       "      <td>sys288fc</td>\n",
       "      <td>sys288fc-utt2bd834f.wav</td>\n",
       "      <td>1</td>\n",
       "      <td>MOS</td>\n",
       "      <td>{}_na_3SfGxVYb_na_na_na_EE</td>\n",
       "    </tr>\n",
       "  </tbody>\n",
       "</table>\n",
       "</div>"
      ],
      "text/plain": [
       "      sysID                  wavname  score dmy1                    listener\n",
       "0  sys40775  sys40775-utted1807d.wav      2  MOS  {}_na_3SfGxVYb_na_na_na_EE\n",
       "1  sys9900c  sys9900c-uttfb2708e.wav      2  MOS  {}_na_3SfGxVYb_na_na_na_EE\n",
       "2  sysc138b  sysc138b-utt52345ed.wav      2  MOS  {}_na_3SfGxVYb_na_na_na_EE\n",
       "3  sysc0232  sysc0232-utt464d5e7.wav      2  MOS  {}_na_3SfGxVYb_na_na_na_EE\n",
       "4  sys288fc  sys288fc-utt2bd834f.wav      1  MOS  {}_na_3SfGxVYb_na_na_na_EE"
      ]
     },
     "execution_count": 5,
     "metadata": {},
     "output_type": "execute_result"
    }
   ],
   "source": [
    "in_file = '../data/additional/xin_data.txt'\n",
    "df = pd.read_csv(in_file, header=None,\n",
    "                    names=['sysID', 'wavname', 'score', 'dmy1', 'listener'])\n",
    "df.head()"
   ]
  },
  {
   "cell_type": "code",
   "execution_count": 6,
   "id": "307323ff-7722-4693-a355-85f83f51bdea",
   "metadata": {},
   "outputs": [
    {
     "data": {
      "text/plain": [
       "wavname\n",
       "sys0c3c7-utt04e186f.wav    1.0\n",
       "sys0c3c7-utt08d4c41.wav    1.0\n",
       "sys0c3c7-utt102e4a7.wav    1.0\n",
       "sys0c3c7-utt1e68193.wav    2.0\n",
       "sys0c3c7-utt1e7e676.wav    1.0\n",
       "                          ... \n",
       "syseb559-uttd172848.wav    1.0\n",
       "syseb559-uttd55235d.wav    2.0\n",
       "syseb559-uttdb7f27a.wav    2.5\n",
       "syseb559-uttfb60593.wav    3.8\n",
       "syseb559-uttfee71ad.wav    3.0\n",
       "Name: score, Length: 741, dtype: float64"
      ]
     },
     "execution_count": 6,
     "metadata": {},
     "output_type": "execute_result"
    }
   ],
   "source": [
    "mos = df.groupby('wavname')['score'].mean()\n",
    "mos"
   ]
  },
  {
   "cell_type": "code",
   "execution_count": 7,
   "id": "fb061db9-ba6f-4b22-a9e4-51745564f7c6",
   "metadata": {},
   "outputs": [],
   "source": [
    "mos.to_csv('../data/additional/student_mos_list.txt', header=None)"
   ]
  },
  {
   "cell_type": "code",
   "execution_count": null,
   "id": "f19bd1ca-0a61-4f74-ac2f-9321b163a754",
   "metadata": {},
   "outputs": [],
   "source": []
  }
 ],
 "metadata": {
  "kernelspec": {
   "display_name": "Python 3 (ipykernel)",
   "language": "python",
   "name": "python3"
  },
  "language_info": {
   "codemirror_mode": {
    "name": "ipython",
    "version": 3
   },
   "file_extension": ".py",
   "mimetype": "text/x-python",
   "name": "python",
   "nbconvert_exporter": "python",
   "pygments_lexer": "ipython3",
   "version": "3.8.7"
  }
 },
 "nbformat": 4,
 "nbformat_minor": 5
}
